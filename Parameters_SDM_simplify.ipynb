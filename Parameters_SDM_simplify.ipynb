{
 "cells": [
  {
   "cell_type": "code",
   "execution_count": 37,
   "id": "b5213cf5-6088-4628-bd13-cd69c6cac55b",
   "metadata": {},
   "outputs": [],
   "source": [
    "import numpy as np\n",
    "from scipy.special import lambertw"
   ]
  },
  {
   "cell_type": "code",
   "execution_count": 38,
   "id": "21a8da59-74ab-4475-8e94-5e87b0f8773b",
   "metadata": {},
   "outputs": [
    {
     "name": "stdout",
     "output_type": "stream",
     "text": [
      "Rs =  0.40758126121651417\n",
      "n =  2.133956845260117\n",
      "Iph =  6.782000000276422\n",
      "I0 =  1.4122957432046823e-06\n",
      "Vt =  0.025692579121085846\n",
      "298.15\n"
     ]
    }
   ],
   "source": [
    "Voc=17.705;\n",
    "Vmpp=13.42;\n",
    "Isc=0.6246;\n",
    "Impp=0.5242;\n",
    "Ns=36;\n",
    "########################\n",
    "\n",
    "Voc=32.83;\n",
    "Vmpp=25.08;\n",
    "Isc=6.782;\n",
    "Impp=6.1958\n",
    "Ns=60;\n",
    "########################\n",
    "\n",
    "k = 1.380649*10**(-23);#(*J/\\[Degree]K cons. Bolsman*)\n",
    "q = 1.602176634*10**(-19);#(*Coulums*)\n",
    "def Vth(T):\n",
    "    return T*k/q\n",
    "\n",
    "gi=Impp/Isc;\n",
    "gv=Vmpp/Voc;\n",
    "r=gi*(1-gv)/(gv*(1-gi));\n",
    "SPR=(1-gi)/np.exp(-r);\n",
    "if SPR>=1:\n",
    "    Rs=(Voc/Isc)*((gv/gi)*(1-gi)*np.log(1-gi)+(1-gv))/((1-gi)*np.log(1-gi)+gi);\n",
    "    Rp=1e10;\n",
    "    print(\"Rs = \",Rs)\n",
    "else:\n",
    "    Rs=1e-10;\n",
    "    l1=((1-gv)/(1-gi))*((2*gi-1)/(gi+gv-1));\n",
    "    l2=gv/(1-gi);\n",
    "    w=lambertw(-SPR*l1*np.exp(-l1),-1).real;\n",
    "    Rp=(Voc/Isc)*(l2*w+l1)/(w+l1);\n",
    "    print(\"Rp = \",Rp)\n",
    "\n",
    "n=(Impp*Rs-(Voc-Vmpp))/np.log(((Isc-Impp)*(Rs+Rp)-Vmpp)/(Isc*(Rs+Rp)-Voc));\n",
    "Iph=Isc*(Rs+Rp)/Rp; #(24)\n",
    "I0=(Isc-Voc/Rp)*np.exp(-Voc/n); #(12)\n",
    "Tn = 25 + 273.15;\n",
    "\n",
    "print(\"n = \",n)\n",
    "print(\"Iph = \",Iph)\n",
    "print(\"I0 = \",I0)\n",
    "print(\"Vt = \",Vth(Tn))\n",
    "print(Tn)"
   ]
  },
  {
   "cell_type": "code",
   "execution_count": 58,
   "id": "a210d915-18b0-4049-a0d0-2900d7ee3209",
   "metadata": {},
   "outputs": [],
   "source": [
    "from scipy.optimize import fsolve\n",
    "from matplotlib import pyplot as plt\n",
    "from scipy.special import lambertw\n",
    "import time"
   ]
  },
  {
   "cell_type": "code",
   "execution_count": 59,
   "id": "a06dd3ac-eac8-45d8-8507-441128bddbf7",
   "metadata": {},
   "outputs": [
    {
     "name": "stdout",
     "output_type": "stream",
     "text": [
      "Isc =  6.781995315649825\n",
      "Voc =  50.6092423544414\n"
     ]
    }
   ],
   "source": [
    "def Isc_eq(i):\n",
    "    return Iph-I0*(np.exp(i*Rs/(n*Vth(Tn)*Ns))+1)-i\n",
    "Isc = fsolve(Isc_eq, 1)[0]\n",
    "Voc=np.log(Iph/I0)*(n*Vth(Tn)*Ns)\n",
    "print(\"Isc = \", Isc)\n",
    "print(\"Voc = \", Voc)"
   ]
  },
  {
   "cell_type": "code",
   "execution_count": 61,
   "id": "e471ad48-a7db-46ea-a5a0-b5d674ff3c51",
   "metadata": {},
   "outputs": [
    {
     "name": "stdout",
     "output_type": "stream",
     "text": [
      "Tiempo empleando el método numerico:  0.021820545196533203\n",
      "Tiempo empleando la función W de lambert:  0.00039839744567871094\n"
     ]
    },
    {
     "data": {
      "image/png": "[encoded data removed]",
      "text/plain": [
       "<Figure size 640x480 with 1 Axes>"
      ]
     },
     "metadata": {},
     "output_type": "display_data"
    },
    {
     "data": {
      "text/plain": [
       "<Figure size 640x480 with 0 Axes>"
      ]
     },
     "metadata": {},
     "output_type": "display_data"
    }
   ],
   "source": [
    "N=100\n",
    "V=np.linspace(0,Voc,N)\n",
    "I=np.zeros(N)\n",
    "Iw=np.zeros(N)\n",
    "\n",
    "inicio = time.time()\n",
    "def I_eq(i):\n",
    "    return Iph-I0*(np.exp((i*Rs+Vm)/(n*Vth(Tn)*Ns))+1)-i\n",
    "for f in range(0,N):\n",
    "    Vm=V[f]\n",
    "    I[f] = fsolve(I_eq, Iph)[0]\n",
    "fin = time.time()\n",
    "print(\"Tiempo empleando el método numerico: \",fin-inicio) \n",
    "\n",
    "inicio = time.time()\n",
    "Iw=Iph-(n*Vth(Tn)*Ns)*(lambertw(I0*Rs*np.exp((V+Rs*Iph)/(n*Vth(Tn)*Ns))/(n*Vth(Tn)*Ns)).real)/Rs\n",
    "fin = time.time()\n",
    "print(\"Tiempo empleando la función W de lambert: \",fin-inicio) \n",
    "\n",
    "plt.plot(V,I,'-',color=\"blue\",label=\"IV curve numerical\", markersize=6,linewidth=2.0)\n",
    "plt.plot(V,Iw,'--',color=\"lime\",label=\"IV curve Lambert W\", markersize=6,linewidth=2.0)\n",
    "plt.title(\"I-V Curve\");\n",
    "plt.xlabel(\"V(V)\");\n",
    "plt.ylabel(\"P(W)\");\n",
    "plt.grid()\n",
    "plt.legend()\n",
    "\n",
    "\n",
    "\n",
    "fig1 = plt.gcf()\n",
    "plt.show()\n",
    "plt.draw()\n",
    "fig1.savefig('IV_curve_num_and_W.png',format='png')"
   ]
  },
  {
   "cell_type": "code",
   "execution_count": null,
   "id": "0a4e8675-6352-4c65-9214-32733da22266",
   "metadata": {},
   "outputs": [],
   "source": []
  },
  {
   "cell_type": "code",
   "execution_count": null,
   "id": "4077ccfa-9f63-4cbc-9db4-1a36a04c2c31",
   "metadata": {},
   "outputs": [],
   "source": []
  },
  {
   "cell_type": "code",
   "execution_count": null,
   "id": "db2c0fef-0632-4731-a9ab-2099c6fe6eaa",
   "metadata": {},
   "outputs": [],
   "source": []
  }
 ],
 "metadata": {
  "kernelspec": {
   "display_name": "Python 3 (ipykernel)",
   "language": "python",
   "name": "python3"
  },
  "language_info": {
   "codemirror_mode": {
    "name": "ipython",
    "version": 3
   },
   "file_extension": ".py",
   "mimetype": "text/x-python",
   "name": "python",
   "nbconvert_exporter": "python",
   "pygments_lexer": "ipython3",
   "version": "3.13.1"
  }
 },
 "nbformat": 4,
 "nbformat_minor": 5
}
