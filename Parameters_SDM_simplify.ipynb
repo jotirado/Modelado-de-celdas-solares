{
 "cells": [
  {
   "cell_type": "code",
   "execution_count": 30,
   "id": "b5213cf5-6088-4628-bd13-cd69c6cac55b",
   "metadata": {},
   "outputs": [],
   "source": [
    "import numpy as np\n",
    "from scipy.special import lambertw"
   ]
  },
  {
   "cell_type": "code",
   "execution_count": 31,
   "id": "21a8da59-74ab-4475-8e94-5e87b0f8773b",
   "metadata": {},
   "outputs": [
    {
     "name": "stdout",
     "output_type": "stream",
     "text": [
      "Rs =  0.40758126121651417\n",
      "n =  2.133956845260117\n",
      "Iph =  6.782000000276422\n",
      "I0 =  1.4122957432046823e-06\n",
      "Vt =  0.025692579121085846\n"
     ]
    }
   ],
   "source": [
    "Voc=17.705;\n",
    "Vmpp=13.42;\n",
    "Isc=0.6246;\n",
    "Impp=0.5242;\n",
    "Ns=36;\n",
    "########################\n",
    "Voc=32.83;\n",
    "Vmpp=25.08;\n",
    "Isc=6.782;\n",
    "Impp=6.1958\n",
    "Ns=60;\n",
    "########################\n",
    "k = 1.380649*10**(-23);#(*J/\\[Degree]K cons. Bolsman*)\n",
    "q = 1.602176634*10**(-19);#(*Coulums*)\n",
    "def Vth(T):\n",
    "    return T*k/q\n",
    "\n",
    "gi=Impp/Isc;\n",
    "gv=Vmpp/Voc;\n",
    "r=gi*(1-gv)/(gv*(1-gi));\n",
    "SPR=(1-gi)/np.exp(-r);\n",
    "if SPR>=1:\n",
    "    Rs=(Voc/Isc)*((gv/gi)*(1-gi)*np.log(1-gi)+(1-gv))/((1-gi)*np.log(1-gi)+gi);\n",
    "    Rp=1e10;\n",
    "    print(\"Rs = \",Rs)\n",
    "else:\n",
    "    Rs=1e-10;\n",
    "    l1=((1-gv)/(1-gi))*((2*gi-1)/(gi+gv-1));\n",
    "    l2=gv/(1-gi);\n",
    "    w=lambertw(-SPR*l1*np.exp(-l1),-1).real;\n",
    "    Rp=(Voc/Isc)*(l2*w+l1)/(w+l1);\n",
    "    print(\"Rp = \",Rp)\n",
    "\n",
    "n=(Impp*Rs-(Voc-Vmpp))/np.log(((Isc-Impp)*(Rs+Rp)-Vmpp)/(Isc*(Rs+Rp)-Voc));\n",
    "Iph=Isc*(Rs+Rp)/Rp; #(24)\n",
    "I0=(Isc-Voc/Rp)*np.exp(-Voc/n); #(12)\n",
    "Tn = 25 + 273.15;\n",
    "\n",
    "print(\"n = \",n)\n",
    "print(\"Iph = \",Iph)\n",
    "print(\"I0 = \",I0)\n",
    "print(\"Vt = \",Vth(Tn))"
   ]
  }
 ],
 "metadata": {
  "kernelspec": {
   "display_name": "Python 3 (ipykernel)",
   "language": "python",
   "name": "python3"
  },
  "language_info": {
   "codemirror_mode": {
    "name": "ipython",
    "version": 3
   },
   "file_extension": ".py",
   "mimetype": "text/x-python",
   "name": "python",
   "nbconvert_exporter": "python",
   "pygments_lexer": "ipython3",
   "version": "3.13.1"
  }
 },
 "nbformat": 4,
 "nbformat_minor": 5
}
